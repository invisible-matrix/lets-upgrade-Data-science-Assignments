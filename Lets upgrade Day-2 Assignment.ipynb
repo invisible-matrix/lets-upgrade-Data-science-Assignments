{
 "cells": [
  {
   "cell_type": "markdown",
   "metadata": {},
   "source": [
    "# Lets upgrade Data Science Day-2 Assigment "
   ]
  },
  {
   "cell_type": "markdown",
   "metadata": {},
   "source": [
    "   1)Create an empty list. Accept 10 numbers from the user and append to it the list if it is an even number."
   ]
  },
  {
   "cell_type": "code",
   "execution_count": 4,
   "metadata": {},
   "outputs": [
    {
     "name": "stdout",
     "output_type": "stream",
     "text": [
      "1\n",
      "3\n",
      "5\n",
      "9\n",
      "7\n",
      "4\n",
      "9\n",
      "1\n",
      "8\n",
      "2\n",
      "[4, 8, 2]\n"
     ]
    }
   ],
   "source": [
    "list=[]\n",
    "for num in range(10):\n",
    "    num_list=int(input())\n",
    "    if num_list%2==0:\n",
    "        list.append(num_list)\n",
    "print(list)"
   ]
  },
  {
   "cell_type": "code",
   "execution_count": null,
   "metadata": {},
   "outputs": [],
   "source": []
  },
  {
   "cell_type": "markdown",
   "metadata": {},
   "source": [
    "   2)Create a notebook on LIST COMPREHENSION. This exercise is to put you in a Self learning mode"
   ]
  },
  {
   "cell_type": "raw",
   "metadata": {},
   "source": [
    "#  What is list comprehension ?\n",
    " *   \"\" List Comprehensions provide an elegant way to create new lists. \"\"\n",
    " * List comprehension is an elegant way to define and create lists based on existing lists.\n",
    " * List comprehension is generally more compact and faster than normal functions and loops for creating list.\n",
    " * However, we should avoid writing very long list comprehensions in one line to ensure that code is user-friendly.\n",
    " * Every list comprehension can be rewritten in for loop, but every for loop can’t be rewritten in the form of list       comprehension.\n",
    "\n",
    "   The general syntax is :\n",
    "   output_list = [output_exp for var in input_list if (var satisfies this condition)]"
   ]
  },
  {
   "cell_type": "code",
   "execution_count": 17,
   "metadata": {},
   "outputs": [
    {
     "name": "stdout",
     "output_type": "stream",
     "text": [
      "['c', 'r', 'o', 'c', 'o', 'd', 'i', 'l', 'e']\n",
      "\n",
      " [0, 2, 4, 6, 8]\n",
      "\n",
      " [0, 10, 20, 30, 40]\n",
      "\n",
      " [[1, 3, 5, 7], [2, 4, 6, 8]]\n"
     ]
    }
   ],
   "source": [
    "# examples on List comprehension\n",
    "\n",
    "# 1) Iterating through a string Using List Comprehension :\n",
    "animals = [ letter for letter in 'crocodile' ]\n",
    "print( animals)\n",
    "\n",
    "# 2)Conditionals in List Comprehension( Using if with List Comprehension) :\n",
    "num_list = [ x for x in range(10) if x % 2 == 0]\n",
    "print(\"\\n\",num_list)\n",
    "\n",
    "# 3) Nested IF with List Comprehension :\n",
    "num_list = [i for i in range(50) if i % 5 == 0 if i % 10 == 0]\n",
    "print(\"\\n\",num_list)\n",
    "\n",
    "# 4)Nested Loops in List Comprehension :\n",
    "matrix = [[1 , 2], [3 , 4], [5 , 6], [7 , 8]]\n",
    "transpose = [[row[j] for row in matrix] for j in range(2)]\n",
    "print (\"\\n\",transpose)\n",
    "\n"
   ]
  },
  {
   "cell_type": "code",
   "execution_count": null,
   "metadata": {},
   "outputs": [],
   "source": []
  },
  {
   "cell_type": "markdown",
   "metadata": {},
   "source": [
    "  3)You have seen in the videos how powerful dictionary data structure is.\n",
    "In this assignment, given a number n, you have to write a program that generates a dictionary d which\n",
    "contains (i, i*i), where i is from 1 to n (both included).\n",
    "Then you have to just print this dictionary d."
   ]
  },
  {
   "cell_type": "code",
   "execution_count": 53,
   "metadata": {},
   "outputs": [
    {
     "name": "stdout",
     "output_type": "stream",
     "text": [
      "Input a number 10\n",
      "{1: 1, 2: 4, 3: 9, 4: 16, 5: 25, 6: 36, 7: 49, 8: 64, 9: 81, 10: 100}\n"
     ]
    }
   ],
   "source": [
    "num=int(input(\"Input a number \"))\n",
    "d = dict()\n",
    "\n",
    "for x in range(1,num+1):\n",
    "    d[x]=x*x\n",
    "\n",
    "print(d) "
   ]
  },
  {
   "cell_type": "code",
   "execution_count": null,
   "metadata": {},
   "outputs": [],
   "source": []
  },
  {
   "cell_type": "markdown",
   "metadata": {},
   "source": [
    " 4)The robot moves in a 2-D plane from the original point (0,0). The robot can\n",
    "move toward UP, DOWN, LEFT and RIGHT with given steps.\n",
    "The trace of robot movement is shown as the following:\n",
    "UP 5\n",
    "DOWN 3\n",
    "LEFT 3\n",
    "RIGHT 2\n",
    "Then, the output of the program should be:\n",
    "2\n",
    "The numbers after the direction are steps.\n",
    "Write a program to compute the distance between the current position after\n",
    "a sequence of movement and original point. If the distance is a float, then\n",
    "just print the nearest integer (use round() function for that and then convert\n",
    "it into an integer)."
   ]
  },
  {
   "cell_type": "code",
   "execution_count": 27,
   "metadata": {},
   "outputs": [
    {
     "name": "stdout",
     "output_type": "stream",
     "text": [
      "enter the number of steps :4\n",
      "Enter the steps like - up/down/right/left : \n",
      "up 5\n",
      "down 3\n",
      "left 3\n",
      "right 2\n",
      "2\n"
     ]
    }
   ],
   "source": [
    "position = {\"x\":0,\"y\":0}\n",
    "\n",
    "num = int(input(\"enter the number of steps :\"))\n",
    "print(\"Enter the steps like - up/down/right/left : \")\n",
    "\n",
    "for i in range (n):\n",
    "    move =  input().split(\" \")      \n",
    "    \n",
    "    if move[0].lower() == \"up\":     \n",
    "        position[\"y\"] += int(move[1])   \n",
    "    \n",
    "    elif move[0].lower() == \"down\":\n",
    "        position[\"y\"] -= int(move[1])\n",
    "    \n",
    "    elif move[0].lower() == \"left\":\n",
    "        position[\"x\"] -= int(move[1])\n",
    "    \n",
    "    elif move[0].lower() == \"right\":\n",
    "        position[\"x\"] += int(move[1])\n",
    "\n",
    "\n",
    "print(int(round((position[\"x\"]**2 + position[\"y\"]**2)**0.5)))"
   ]
  }
 ],
 "metadata": {
  "kernelspec": {
   "display_name": "Python 3",
   "language": "python",
   "name": "python3"
  },
  "language_info": {
   "codemirror_mode": {
    "name": "ipython",
    "version": 3
   },
   "file_extension": ".py",
   "mimetype": "text/x-python",
   "name": "python",
   "nbconvert_exporter": "python",
   "pygments_lexer": "ipython3",
   "version": "3.8.3"
  }
 },
 "nbformat": 4,
 "nbformat_minor": 4
}
