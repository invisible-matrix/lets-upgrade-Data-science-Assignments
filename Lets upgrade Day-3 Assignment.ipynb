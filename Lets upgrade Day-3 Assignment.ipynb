{
 "cells": [
  {
   "cell_type": "markdown",
   "metadata": {},
   "source": [
    "# Lets upgrade Day-3 Data Science Assignment"
   ]
  },
  {
   "cell_type": "markdown",
   "metadata": {},
   "source": [
    "#  Question-1\n",
    "       \n",
    "       Create a numpy array starting from 2 till 50 with a stepsize of 3."
   ]
  },
  {
   "cell_type": "code",
   "execution_count": 2,
   "metadata": {},
   "outputs": [],
   "source": [
    "import numpy as np"
   ]
  },
  {
   "cell_type": "code",
   "execution_count": 10,
   "metadata": {},
   "outputs": [
    {
     "data": {
      "text/plain": [
       "array([ 2,  5,  8, 11, 14, 17, 20, 23, 26, 29, 32, 35, 38, 41, 44, 47, 50])"
      ]
     },
     "execution_count": 10,
     "metadata": {},
     "output_type": "execute_result"
    }
   ],
   "source": [
    "arr=np.arange(2,53,3)\n",
    "arr\n"
   ]
  },
  {
   "cell_type": "code",
   "execution_count": null,
   "metadata": {},
   "outputs": [],
   "source": []
  },
  {
   "cell_type": "markdown",
   "metadata": {},
   "source": [
    "#  Question-2\n",
    "     \n",
    "       Accept two lists of 5 elements each from the user.\n",
    "       Convert them to numpy arrays. Concatenate these arrays and print it. Also sort these arrays and print it."
   ]
  },
  {
   "cell_type": "code",
   "execution_count": 17,
   "metadata": {},
   "outputs": [
    {
     "name": "stdout",
     "output_type": "stream",
     "text": [
      "0\n",
      "4\n",
      "5\n",
      "6\n",
      "3\n",
      "2\n",
      "1\n",
      "7\n",
      "8\n",
      "9\n",
      "the concatenated array : [0 4 5 6 3 2 1 7 8 9]\n",
      "the sorted array : [0 1 2 3 4 5 6 7 8 9]\n"
     ]
    }
   ],
   "source": [
    "x=[]\n",
    "y=[]\n",
    "for _ in range(0,5):\n",
    "    i = int(input())\n",
    "    x.append(i)\n",
    "for _ in range(0,5):\n",
    "    j = int(input())\n",
    "    y.append(j)\n",
    "arr1 = np.array(x)\n",
    "arr2 = np.array(y)\n",
    "arr = np.concatenate((arr1,arr2))\n",
    "print(\"the concatenated array :\",arr)\n",
    "arr3 = np.sort(arr)\n",
    "print(\"the sorted array :\",arr3)\n",
    "    "
   ]
  },
  {
   "cell_type": "code",
   "execution_count": null,
   "metadata": {},
   "outputs": [],
   "source": []
  },
  {
   "cell_type": "markdown",
   "metadata": {},
   "source": [
    "#   Question-3\n",
    "    \n",
    "         Write a code snippet to find the dimensions of a ndarray and its size."
   ]
  },
  {
   "cell_type": "code",
   "execution_count": 33,
   "metadata": {},
   "outputs": [
    {
     "name": "stdout",
     "output_type": "stream",
     "text": [
      "[[0.05648626 0.19615525 0.2684978  0.53821812 0.88683218]\n",
      " [0.6384026  0.30048658 0.84413157 0.7620633  0.86528177]]\n",
      "the no of dimensions are : 2\n",
      "the size of array is : 10\n"
     ]
    }
   ],
   "source": [
    "def array():\n",
    "    arr=np.random.rand(2,5)\n",
    "    print(arr)\n",
    "    print(\"the no of dimensions are :\",arr.ndim)\n",
    "    print(\"the size of array is :\",arr.size)\n",
    "array()    \n",
    "    \n"
   ]
  },
  {
   "cell_type": "code",
   "execution_count": null,
   "metadata": {},
   "outputs": [],
   "source": []
  },
  {
   "cell_type": "markdown",
   "metadata": {},
   "source": [
    "# Question-4\n",
    "      \n",
    "      How to convert a 1D array into a 2D array? Demonstrate with the help of a code snippet.\n",
    "      (Hint: np.newaxis, np.expand_dims)"
   ]
  },
  {
   "cell_type": "code",
   "execution_count": 46,
   "metadata": {},
   "outputs": [
    {
     "name": "stdout",
     "output_type": "stream",
     "text": [
      "[[0 1 2 3 4]\n",
      " [5 6 7 8 9]]\n",
      "\n",
      "\n",
      "(5, 5)\n",
      "(1, 1, 5, 5)\n",
      "\n",
      "\n",
      "(3, 4, 1)\n"
     ]
    }
   ],
   "source": [
    "# convertion of 1d-2d array :\n",
    "\n",
    "arr = np.array([0, 1, 2, 3, 4, 5, 6, 7, 8, 9])\n",
    "arr_2d = np.reshape(arr, (2, 5))\n",
    "print(arr)\n",
    "print(arr_2d)\n",
    "print(\"\\n\")\n",
    "\n",
    "#demonstration of np.newaxis & np.expand_dims :\n",
    "\n",
    "arr = np.arange(5*5).reshape(5, 5) \n",
    "print(arr.shape) \n",
    "arr_5D = arr[np.newaxis,np.newaxis] \n",
    "print(arr_5D.shape)\n",
    "print(\"\\n\")\n",
    "\n",
    "x = np.zeros((3, 4)) \n",
    "y = np.expand_dims(x, axis=2).shape \n",
    "print(y) \n",
    "\n"
   ]
  },
  {
   "cell_type": "code",
   "execution_count": null,
   "metadata": {},
   "outputs": [],
   "source": []
  },
  {
   "cell_type": "markdown",
   "metadata": {},
   "source": [
    "# Question-5\n",
    "      \n",
    "      Consider two square numpy arrays. Stack them vertically and horizontally.\n",
    "      (Hint: Use vstack(), hstack())"
   ]
  },
  {
   "cell_type": "code",
   "execution_count": 53,
   "metadata": {},
   "outputs": [
    {
     "name": "stdout",
     "output_type": "stream",
     "text": [
      "1st Input array :  [1 2 3]\n",
      "2nd Input array :  [4 5 6]\n",
      "horizontally stacked array is :\n",
      "  [1 2 3 4 5 6]\n",
      "\n",
      "Output vertically stacked array: \n",
      " [[1 2 3]\n",
      " [4 5 6]]\n"
     ]
    }
   ],
   "source": [
    "arr1 = np.array([ 1, 2, 3] ) \n",
    "print (\"1st Input array : \", arr1)  \n",
    "  \n",
    "arr2 = np.array([ 4, 5, 6] ) \n",
    "print (\"2nd Input array : \", arr2)  \n",
    "\n",
    "out_arr = np.hstack((arr1, arr2)) \n",
    "print (\"horizontally stacked array is :\\n \", out_arr) \n",
    "\n",
    "out_arr1 = np.vstack((arr1, arr2)) \n",
    "print (\"\\nOutput vertically stacked array: \\n\", out_arr1) \n"
   ]
  },
  {
   "cell_type": "code",
   "execution_count": null,
   "metadata": {},
   "outputs": [],
   "source": []
  },
  {
   "cell_type": "markdown",
   "metadata": {},
   "source": [
    "# Question-6\n",
    "\n",
    "      How to get unique items and counts of unique items?"
   ]
  },
  {
   "cell_type": "code",
   "execution_count": 70,
   "metadata": {},
   "outputs": [
    {
     "name": "stdout",
     "output_type": "stream",
     "text": [
      "enter no of inputs you want to give :5\n",
      "1\n",
      "1\n",
      "2\n",
      "2\n",
      "3\n",
      "\n",
      "Original list : [1, 1, 2, 2, 3]\n",
      "\n",
      "Number of unique elements- 3\n",
      "\n",
      "list containing only unique elements : [1, 2, 3]\n"
     ]
    }
   ],
   "source": [
    "x = []\n",
    "n = int(input(\"enter no of inputs you want to give :\"))\n",
    "for i in range(0, n): \n",
    "    a = int(input())\n",
    "    x.append(a)\n",
    "y = [] \n",
    "for item in x: \n",
    "    if item not in y: \n",
    "        y.append(item) \n",
    "print(\"\\nOriginal list :\",x)\n",
    "print(\"\\nNumber of unique elements- \"+str(len(y)))\n",
    "print(\"\\nlist containing only unique elements :\",y)"
   ]
  }
 ],
 "metadata": {
  "kernelspec": {
   "display_name": "Python 3",
   "language": "python",
   "name": "python3"
  },
  "language_info": {
   "codemirror_mode": {
    "name": "ipython",
    "version": 3
   },
   "file_extension": ".py",
   "mimetype": "text/x-python",
   "name": "python",
   "nbconvert_exporter": "python",
   "pygments_lexer": "ipython3",
   "version": "3.8.3"
  }
 },
 "nbformat": 4,
 "nbformat_minor": 4
}
