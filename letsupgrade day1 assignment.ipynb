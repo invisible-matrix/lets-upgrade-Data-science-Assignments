{
 "cells": [
  {
   "cell_type": "markdown",
   "metadata": {},
   "source": [
    "# Lets upgrade Data Science day1 assignment"
   ]
  },
  {
   "cell_type": "raw",
   "metadata": {},
   "source": [
    "  1) Given the following jumbled word, OBANWRI guess the correct English word.\n",
    "\n",
    "  A. RANIBOW\n",
    "  B. RAINBOW\n",
    "  C. BOWRANI\n",
    "  D. ROBWANI\n",
    "\n",
    "\n",
    "\n",
    "   Answer -> B) RAINBOW"
   ]
  },
  {
   "cell_type": "code",
   "execution_count": null,
   "metadata": {},
   "outputs": [],
   "source": []
  },
  {
   "cell_type": "raw",
   "metadata": {},
   "source": [
    "   2) Write a program which prints “LETS UPGRADE”. (Please note that you have to\n",
    "      print in ALL CAPS as given)"
   ]
  },
  {
   "cell_type": "code",
   "execution_count": 1,
   "metadata": {},
   "outputs": [
    {
     "name": "stdout",
     "output_type": "stream",
     "text": [
      "LETS UPGRADE\n"
     ]
    }
   ],
   "source": [
    "print(\"LETS UPGRADE\")"
   ]
  },
  {
   "cell_type": "raw",
   "metadata": {},
   "source": [
    "   3) Write a program that takes cost price and selling price as input and displays whether the transaction is a\n",
    "      Profit or a Loss or Neither.\n",
    "      INPUT FORMAT\n",
    "      The first line contains the cost price.\n",
    "      The second line contains the selling price.\n",
    "      OUTPUT FORMAT\n",
    "      Print \"Profit\" if the transaction is a profit or \"Loss\" if it is a loss. If it is neither\n",
    "      profit nor loss, print \"Neither\". (You must not have quotes in your output)"
   ]
  },
  {
   "cell_type": "code",
   "execution_count": 20,
   "metadata": {},
   "outputs": [
    {
     "name": "stdout",
     "output_type": "stream",
     "text": [
      "50\n",
      "70\n",
      "profit\n"
     ]
    }
   ],
   "source": [
    "cp=input()\n",
    "sp=input()\n",
    "if cp<sp :\n",
    "    print(\"profit\")\n",
    "elif cp>sp :\n",
    "    print(\"loss\")\n",
    "else :\n",
    "    print(\"Neither\")"
   ]
  },
  {
   "cell_type": "raw",
   "metadata": {},
   "source": [
    "    4) Write a program that takes an amount in Euros as input. You need to find its equivalent in\n",
    "      Rupees and display it. Assume 1 Euro equals Rs. 80.\n",
    "      Please note that you are expected to stick to the given input and output\n",
    "      format as in sample test cases. Please don't add any extra lines such as\n",
    "      'Enter a number', etc."
   ]
  },
  {
   "cell_type": "code",
   "execution_count": 19,
   "metadata": {},
   "outputs": [
    {
     "name": "stdout",
     "output_type": "stream",
     "text": [
      "4\n",
      "320\n"
     ]
    }
   ],
   "source": [
    "a=80\n",
    "b=int(input()) \n",
    "c=b*a \n",
    "print(c)"
   ]
  }
 ],
 "metadata": {
  "kernelspec": {
   "display_name": "Python 3",
   "language": "python",
   "name": "python3"
  },
  "language_info": {
   "codemirror_mode": {
    "name": "ipython",
    "version": 3
   },
   "file_extension": ".py",
   "mimetype": "text/x-python",
   "name": "python",
   "nbconvert_exporter": "python",
   "pygments_lexer": "ipython3",
   "version": "3.8.3"
  }
 },
 "nbformat": 4,
 "nbformat_minor": 4
}
